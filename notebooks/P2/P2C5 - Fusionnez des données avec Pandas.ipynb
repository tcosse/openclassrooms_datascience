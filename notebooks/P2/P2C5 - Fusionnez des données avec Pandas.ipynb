{
  "cells": [
    {
      "cell_type": "markdown",
      "id": "4936cc4c",
      "metadata": {
        "id": "4936cc4c"
      },
      "source": [
        "![openclassrooms](https://s3.eu-west-1.amazonaws.com/course.oc-static.com/courses/6204541/1+HnqdJ-5ofxiPP9HIxdNdpw.jpeg)\n",
        "\n",
        "# Fusionnez des données avec Pandas\n",
        "\n",
        "Votre tâche cette fois-ci va être de construire un jeu de données qui soit le plus complet possible. Pour cela, vous devez utiliser l’ensemble des jeux de données à votre disposition (les deux fichiers clients et le fichier de prêts) et appliquer l’ensemble des méthodes pour les fusionner ensemble."
      ]
    },
    {
      "cell_type": "code",
      "execution_count": null,
      "id": "f34a72b6",
      "metadata": {
        "id": "f34a72b6"
      },
      "outputs": [],
      "source": [
        "import numpy as np\n",
        "import pandas as pd"
      ]
    },
    {
      "cell_type": "code",
      "execution_count": null,
      "id": "8975e183",
      "metadata": {
        "id": "8975e183",
        "outputId": "058d035c-7585-43ff-c2a7-527f1a2858b8"
      },
      "outputs": [
        {
          "data": {
            "text/html": [
              "<div>\n",
              "<style scoped>\n",
              "    .dataframe tbody tr th:only-of-type {\n",
              "        vertical-align: middle;\n",
              "    }\n",
              "\n",
              "    .dataframe tbody tr th {\n",
              "        vertical-align: top;\n",
              "    }\n",
              "\n",
              "    .dataframe thead th {\n",
              "        text-align: right;\n",
              "    }\n",
              "</style>\n",
              "<table border=\"1\" class=\"dataframe\">\n",
              "  <thead>\n",
              "    <tr style=\"text-align: right;\">\n",
              "      <th></th>\n",
              "      <th>identifiant</th>\n",
              "      <th>ville</th>\n",
              "      <th>CP</th>\n",
              "      <th>revenu</th>\n",
              "      <th>remboursement</th>\n",
              "      <th>duree</th>\n",
              "      <th>type</th>\n",
              "      <th>taux_interet</th>\n",
              "      <th>taux_endettement</th>\n",
              "      <th>cout_total</th>\n",
              "      <th>benefices</th>\n",
              "      <th>risque</th>\n",
              "    </tr>\n",
              "  </thead>\n",
              "  <tbody>\n",
              "    <tr>\n",
              "      <th>0</th>\n",
              "      <td>0</td>\n",
              "      <td>TOULOUSE</td>\n",
              "      <td>31100</td>\n",
              "      <td>3669.0</td>\n",
              "      <td>1130.05</td>\n",
              "      <td>240</td>\n",
              "      <td>immobilier</td>\n",
              "      <td>1.168</td>\n",
              "      <td>30.80</td>\n",
              "      <td>271212.0</td>\n",
              "      <td>131.99</td>\n",
              "      <td>Non</td>\n",
              "    </tr>\n",
              "    <tr>\n",
              "      <th>1</th>\n",
              "      <td>1</td>\n",
              "      <td>PARIS</td>\n",
              "      <td>75009</td>\n",
              "      <td>5310.0</td>\n",
              "      <td>240.00</td>\n",
              "      <td>64</td>\n",
              "      <td>automobile</td>\n",
              "      <td>3.701</td>\n",
              "      <td>4.52</td>\n",
              "      <td>15360.0</td>\n",
              "      <td>23.69</td>\n",
              "      <td>Non</td>\n",
              "    </tr>\n",
              "    <tr>\n",
              "      <th>2</th>\n",
              "      <td>1</td>\n",
              "      <td>PARIS</td>\n",
              "      <td>75009</td>\n",
              "      <td>5310.0</td>\n",
              "      <td>1247.85</td>\n",
              "      <td>300</td>\n",
              "      <td>immobilier</td>\n",
              "      <td>1.173</td>\n",
              "      <td>23.50</td>\n",
              "      <td>374355.0</td>\n",
              "      <td>182.97</td>\n",
              "      <td>Non</td>\n",
              "    </tr>\n",
              "    <tr>\n",
              "      <th>3</th>\n",
              "      <td>2</td>\n",
              "      <td>MARSEILLE</td>\n",
              "      <td>13010</td>\n",
              "      <td>1873.0</td>\n",
              "      <td>552.54</td>\n",
              "      <td>240</td>\n",
              "      <td>immobilier</td>\n",
              "      <td>0.972</td>\n",
              "      <td>29.50</td>\n",
              "      <td>132609.6</td>\n",
              "      <td>53.71</td>\n",
              "      <td>Non</td>\n",
              "    </tr>\n",
              "    <tr>\n",
              "      <th>4</th>\n",
              "      <td>3</td>\n",
              "      <td>MARSEILLE</td>\n",
              "      <td>13010</td>\n",
              "      <td>1684.0</td>\n",
              "      <td>586.03</td>\n",
              "      <td>180</td>\n",
              "      <td>immobilier</td>\n",
              "      <td>1.014</td>\n",
              "      <td>34.80</td>\n",
              "      <td>105485.4</td>\n",
              "      <td>44.57</td>\n",
              "      <td>Non</td>\n",
              "    </tr>\n",
              "  </tbody>\n",
              "</table>\n",
              "</div>"
            ],
            "text/plain": [
              "   identifiant      ville     CP  revenu  remboursement  duree        type   \n",
              "0            0   TOULOUSE  31100  3669.0        1130.05    240  immobilier  \\\n",
              "1            1      PARIS  75009  5310.0         240.00     64  automobile   \n",
              "2            1      PARIS  75009  5310.0        1247.85    300  immobilier   \n",
              "3            2  MARSEILLE  13010  1873.0         552.54    240  immobilier   \n",
              "4            3  MARSEILLE  13010  1684.0         586.03    180  immobilier   \n",
              "\n",
              "   taux_interet  taux_endettement  cout_total  benefices risque  \n",
              "0         1.168             30.80    271212.0     131.99    Non  \n",
              "1         3.701              4.52     15360.0      23.69    Non  \n",
              "2         1.173             23.50    374355.0     182.97    Non  \n",
              "3         0.972             29.50    132609.6      53.71    Non  \n",
              "4         1.014             34.80    105485.4      44.57    Non  "
            ]
          },
          "execution_count": 2,
          "metadata": {},
          "output_type": "execute_result"
        }
      ],
      "source": [
        "# traitement réalisés précédemment\n",
        "prets = pd.read_csv('https://raw.githubusercontent.com/OpenClassrooms-Student-Center/fr-4452741-decouvrez-les-librairies-python-pour-la-data-science/main/data/prets.csv')\n",
        "\n",
        "# calcul du taux d'endettement\n",
        "prets['taux_endettement'] = round(prets['remboursement'] * 100 / prets['revenu'], 2)\n",
        "\n",
        "# renommer taux en taux_interet\n",
        "prets.rename(columns={'taux':'taux_interet'}, inplace=True)\n",
        "\n",
        "# calculer le cout total du pret\n",
        "prets['cout_total'] = prets['remboursement'] * prets['duree']\n",
        "\n",
        "# calculer les bénéfices mensuels réalisés\n",
        "prets['benefices'] = round((prets['cout_total'] * prets['taux_interet']/100)/(24), 2)\n",
        "\n",
        "# création d'une variable risque\n",
        "prets['risque'] = 'Non'\n",
        "prets.loc[prets['taux_endettement'] > 35, 'risque'] = 'Oui'\n",
        "\n",
        "# dataframe de profils clients\n",
        "profil_clients = prets.groupby('identifiant')[['remboursement','taux_endettement','cout_total','benefices']].sum()\n",
        "profil_clients.reset_index(inplace=True)\n",
        "profil_clients.head()\n",
        "\n",
        "prets.head()"
      ]
    },
    {
      "cell_type": "markdown",
      "id": "64505165",
      "metadata": {
        "id": "64505165"
      },
      "source": [
        "Dans un premier temps, importons les deux fichiers clients :"
      ]
    },
    {
      "cell_type": "code",
      "execution_count": null,
      "id": "6d2dbfb0",
      "metadata": {
        "id": "6d2dbfb0",
        "outputId": "7ddd3eb6-1665-4e96-e342-2a89702a0813"
      },
      "outputs": [
        {
          "data": {
            "text/html": [
              "<div>\n",
              "<style scoped>\n",
              "    .dataframe tbody tr th:only-of-type {\n",
              "        vertical-align: middle;\n",
              "    }\n",
              "\n",
              "    .dataframe tbody tr th {\n",
              "        vertical-align: top;\n",
              "    }\n",
              "\n",
              "    .dataframe thead th {\n",
              "        text-align: right;\n",
              "    }\n",
              "</style>\n",
              "<table border=\"1\" class=\"dataframe\">\n",
              "  <thead>\n",
              "    <tr style=\"text-align: right;\">\n",
              "      <th></th>\n",
              "      <th>identifiant</th>\n",
              "      <th>email</th>\n",
              "      <th>nom</th>\n",
              "      <th>genre</th>\n",
              "    </tr>\n",
              "  </thead>\n",
              "  <tbody>\n",
              "    <tr>\n",
              "      <th>0</th>\n",
              "      <td>0</td>\n",
              "      <td>LaurentDagenais@rhyta.com</td>\n",
              "      <td>Laurent Dagenais</td>\n",
              "      <td>M</td>\n",
              "    </tr>\n",
              "    <tr>\n",
              "      <th>1</th>\n",
              "      <td>1</td>\n",
              "      <td>GuyMarois@fleckens.hu</td>\n",
              "      <td>Guy Marois</td>\n",
              "      <td>M</td>\n",
              "    </tr>\n",
              "    <tr>\n",
              "      <th>2</th>\n",
              "      <td>2</td>\n",
              "      <td>BeaufortLesage@einrot.com</td>\n",
              "      <td>Beaufort Lesage</td>\n",
              "      <td>M</td>\n",
              "    </tr>\n",
              "    <tr>\n",
              "      <th>3</th>\n",
              "      <td>3</td>\n",
              "      <td>RussellDurand@armyspy.com</td>\n",
              "      <td>Russell Durand</td>\n",
              "      <td>M</td>\n",
              "    </tr>\n",
              "    <tr>\n",
              "      <th>4</th>\n",
              "      <td>4</td>\n",
              "      <td>AlexisRiel@rhyta.com</td>\n",
              "      <td>Alexis Riel</td>\n",
              "      <td>M</td>\n",
              "    </tr>\n",
              "  </tbody>\n",
              "</table>\n",
              "</div>"
            ],
            "text/plain": [
              "   identifiant                      email               nom genre\n",
              "0            0  LaurentDagenais@rhyta.com  Laurent Dagenais     M\n",
              "1            1      GuyMarois@fleckens.hu        Guy Marois     M\n",
              "2            2  BeaufortLesage@einrot.com   Beaufort Lesage     M\n",
              "3            3  RussellDurand@armyspy.com    Russell Durand     M\n",
              "4            4       AlexisRiel@rhyta.com       Alexis Riel     M"
            ]
          },
          "execution_count": 3,
          "metadata": {},
          "output_type": "execute_result"
        }
      ],
      "source": [
        "clients_1 = pd.read_csv('https://raw.githubusercontent.com/OpenClassrooms-Student-Center/fr-4452741-decouvrez-les-librairies-python-pour-la-data-science/main/data/clients.csv')\n",
        "clients_1.head()"
      ]
    },
    {
      "cell_type": "code",
      "execution_count": null,
      "id": "0a22f51f",
      "metadata": {
        "id": "0a22f51f",
        "outputId": "f6762842-0636-4328-c3fd-3cb436bdb459"
      },
      "outputs": [
        {
          "data": {
            "text/html": [
              "<div>\n",
              "<style scoped>\n",
              "    .dataframe tbody tr th:only-of-type {\n",
              "        vertical-align: middle;\n",
              "    }\n",
              "\n",
              "    .dataframe tbody tr th {\n",
              "        vertical-align: top;\n",
              "    }\n",
              "\n",
              "    .dataframe thead th {\n",
              "        text-align: right;\n",
              "    }\n",
              "</style>\n",
              "<table border=\"1\" class=\"dataframe\">\n",
              "  <thead>\n",
              "    <tr style=\"text-align: right;\">\n",
              "      <th></th>\n",
              "      <th>identifiant</th>\n",
              "      <th>email</th>\n",
              "      <th>nom</th>\n",
              "      <th>genre</th>\n",
              "    </tr>\n",
              "  </thead>\n",
              "  <tbody>\n",
              "    <tr>\n",
              "      <th>0</th>\n",
              "      <td>150</td>\n",
              "      <td>RochMireault@gustr.com</td>\n",
              "      <td>Roch Mireault</td>\n",
              "      <td>M</td>\n",
              "    </tr>\n",
              "    <tr>\n",
              "      <th>1</th>\n",
              "      <td>151</td>\n",
              "      <td>NathalieCormier@cuvox.de</td>\n",
              "      <td>Nathalie Cormier</td>\n",
              "      <td>F</td>\n",
              "    </tr>\n",
              "    <tr>\n",
              "      <th>2</th>\n",
              "      <td>152</td>\n",
              "      <td>VallisMainville@gustr.com</td>\n",
              "      <td>Vallis Mainville</td>\n",
              "      <td>M</td>\n",
              "    </tr>\n",
              "    <tr>\n",
              "      <th>3</th>\n",
              "      <td>153</td>\n",
              "      <td>DanielleNeufville@teleworm.us</td>\n",
              "      <td>Danielle Neufville</td>\n",
              "      <td>F</td>\n",
              "    </tr>\n",
              "    <tr>\n",
              "      <th>4</th>\n",
              "      <td>154</td>\n",
              "      <td>AllyrianeRacine@gustr.com</td>\n",
              "      <td>Allyriane Racine</td>\n",
              "      <td>F</td>\n",
              "    </tr>\n",
              "  </tbody>\n",
              "</table>\n",
              "</div>"
            ],
            "text/plain": [
              "   identifiant                          email                 nom genre\n",
              "0          150         RochMireault@gustr.com       Roch Mireault     M\n",
              "1          151       NathalieCormier@cuvox.de    Nathalie Cormier     F\n",
              "2          152      VallisMainville@gustr.com    Vallis Mainville     M\n",
              "3          153  DanielleNeufville@teleworm.us  Danielle Neufville     F\n",
              "4          154      AllyrianeRacine@gustr.com    Allyriane Racine     F"
            ]
          },
          "execution_count": 4,
          "metadata": {},
          "output_type": "execute_result"
        }
      ],
      "source": [
        "clients_2 = pd.read_csv('https://raw.githubusercontent.com/OpenClassrooms-Student-Center/fr-4452741-decouvrez-les-librairies-python-pour-la-data-science/main/data/clients_suite.csv')\n",
        "clients_2.head()"
      ]
    },
    {
      "cell_type": "markdown",
      "id": "90208777",
      "metadata": {
        "id": "90208777"
      },
      "source": [
        "La première mission va être de rassembler les deux dataframes `clients_1` et `clients_2` en un gros dataframe `clients` qui contiendra l'ensemble des informations de notre clientèle !"
      ]
    },
    {
      "cell_type": "code",
      "execution_count": null,
      "id": "50d1088e",
      "metadata": {
        "id": "50d1088e"
      },
      "outputs": [],
      "source": []
    },
    {
      "cell_type": "markdown",
      "id": "a2a48ddb",
      "metadata": {
        "id": "a2a48ddb"
      },
      "source": [
        "A présent, vous allez fusionner ce fichier clients avec les profils clients créés précédemment. Ces derniers se trouve dans le dataframe `profil_clients` qui a été généré en case 2. Vous pouvez nommer le dataframe final `data` :"
      ]
    },
    {
      "cell_type": "code",
      "execution_count": null,
      "id": "9066810e",
      "metadata": {
        "id": "9066810e"
      },
      "outputs": [],
      "source": []
    },
    {
      "cell_type": "markdown",
      "id": "94969512",
      "metadata": {
        "id": "94969512"
      },
      "source": [
        "Le service marketing de la banque nous a fourni un fichier dans lequel se trouve l'age de TOUS les clients de notre banque."
      ]
    },
    {
      "cell_type": "code",
      "execution_count": null,
      "id": "dd3e34d5",
      "metadata": {
        "id": "dd3e34d5",
        "outputId": "f5498420-0629-4b09-d629-4ae92abe223c"
      },
      "outputs": [
        {
          "data": {
            "text/html": [
              "<div>\n",
              "<style scoped>\n",
              "    .dataframe tbody tr th:only-of-type {\n",
              "        vertical-align: middle;\n",
              "    }\n",
              "\n",
              "    .dataframe tbody tr th {\n",
              "        vertical-align: top;\n",
              "    }\n",
              "\n",
              "    .dataframe thead th {\n",
              "        text-align: right;\n",
              "    }\n",
              "</style>\n",
              "<table border=\"1\" class=\"dataframe\">\n",
              "  <thead>\n",
              "    <tr style=\"text-align: right;\">\n",
              "      <th></th>\n",
              "      <th>identifiant</th>\n",
              "      <th>age</th>\n",
              "    </tr>\n",
              "  </thead>\n",
              "  <tbody>\n",
              "    <tr>\n",
              "      <th>0</th>\n",
              "      <td>0</td>\n",
              "      <td>54</td>\n",
              "    </tr>\n",
              "    <tr>\n",
              "      <th>1</th>\n",
              "      <td>1</td>\n",
              "      <td>23</td>\n",
              "    </tr>\n",
              "    <tr>\n",
              "      <th>2</th>\n",
              "      <td>2</td>\n",
              "      <td>30</td>\n",
              "    </tr>\n",
              "    <tr>\n",
              "      <th>3</th>\n",
              "      <td>3</td>\n",
              "      <td>42</td>\n",
              "    </tr>\n",
              "    <tr>\n",
              "      <th>4</th>\n",
              "      <td>4</td>\n",
              "      <td>47</td>\n",
              "    </tr>\n",
              "  </tbody>\n",
              "</table>\n",
              "</div>"
            ],
            "text/plain": [
              "   identifiant  age\n",
              "0            0   54\n",
              "1            1   23\n",
              "2            2   30\n",
              "3            3   42\n",
              "4            4   47"
            ]
          },
          "execution_count": 5,
          "metadata": {},
          "output_type": "execute_result"
        }
      ],
      "source": [
        "clients_age = pd.read_csv('https://raw.githubusercontent.com/OpenClassrooms-Student-Center/fr-4452741-decouvrez-les-librairies-python-pour-la-data-science/main/data/client_age.csv')\n",
        "clients_age.head()"
      ]
    },
    {
      "cell_type": "markdown",
      "id": "9b4023aa",
      "metadata": {
        "id": "9b4023aa"
      },
      "source": [
        "Ajoutez l'information de l'age au dataframe `data`. Cependant, il semble que certains des clients ayant contracté un prêt n'apparaissent pas dans ce fichier. On souhaite cependant garder **toutes** les informations de notre dataframe `data` : choisissez donc avec précaution les arguments !"
      ]
    },
    {
      "cell_type": "code",
      "execution_count": null,
      "id": "bcb12161",
      "metadata": {
        "id": "bcb12161"
      },
      "outputs": [],
      "source": []
    },
    {
      "cell_type": "markdown",
      "id": "bc12be87",
      "metadata": {
        "id": "bc12be87"
      },
      "source": [
        "Bien joué ! Que diriez vous de comparer vos réponses [avec la correction](https://colab.research.google.com/github/OpenClassrooms-Student-Center/fr-4452741-decouvrez-les-librairies-python-pour-la-data-science/blob/main/notebooks/P2/P2C5%20-%20Fusionnez%20des%20donn%C3%A9es%20avec%20Pandas%20-%20correction.ipynb) à présent ?"
      ]
    },
    {
      "cell_type": "code",
      "execution_count": null,
      "id": "26691ae2",
      "metadata": {
        "id": "26691ae2"
      },
      "outputs": [],
      "source": []
    }
  ],
  "metadata": {
    "kernelspec": {
      "display_name": "Python 3 (ipykernel)",
      "language": "python",
      "name": "python3"
    },
    "language_info": {
      "codemirror_mode": {
        "name": "ipython",
        "version": 3
      },
      "file_extension": ".py",
      "mimetype": "text/x-python",
      "name": "python",
      "nbconvert_exporter": "python",
      "pygments_lexer": "ipython3",
      "version": "3.9.13"
    },
    "colab": {
      "provenance": []
    }
  },
  "nbformat": 4,
  "nbformat_minor": 5
}